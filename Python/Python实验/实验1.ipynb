{
 "cells": [
  {
   "cell_type": "markdown",
   "id": "56e5188b",
   "metadata": {},
   "source": [
    "对三个数排序"
   ]
  },
  {
   "cell_type": "code",
   "execution_count": 1,
   "id": "a28c2403",
   "metadata": {},
   "outputs": [
    {
     "name": "stdout",
     "output_type": "stream",
     "text": [
      "从小到大排序为： 3 7 8\n"
     ]
    }
   ],
   "source": [
    "[a,b,c] = input(\"请输入三个数字\").split()\n",
    "# 排序\n",
    "if a > b:\n",
    "    a, b = b, a\n",
    "if a > c:\n",
    "    a, c = c, a\n",
    "if b > c:\n",
    "    b, c = c, b\n",
    "# 输出结果\n",
    "print(\"从小到大排序为：\", a, b, c)"
   ]
  },
  {
   "cell_type": "markdown",
   "id": "497d0f5f",
   "metadata": {},
   "source": [
    "找出一个月中的天数"
   ]
  },
  {
   "cell_type": "code",
   "execution_count": 4,
   "id": "3188ef0f",
   "metadata": {},
   "outputs": [
    {
     "name": "stdout",
     "output_type": "stream",
     "text": [
      "31天\n"
     ]
    }
   ],
   "source": [
    "[month,year] = input(\"请输入月份和年份：\").split()\n",
    "if month == \"1\" or month == \"3\" or month == \"5\" or month == \"7\" or month == \"8\" or month == \"10\" or month == \"12\":\n",
    "    print(\"31天\")\n",
    "elif month == \"4\" or month == \"6\" or month == \"9\" or month == \"11\":\n",
    "    print(\"30天\")\n",
    "elif month == \"2\":\n",
    "    if (year.isdigit() and int(year) % 4 == 0 and (int(year) % 100 != 0 or int(year) % 400 == 0)):\n",
    "        print(\"29天\")\n",
    "    else:\n",
    "        print(\"28天\")"
   ]
  },
  {
   "cell_type": "markdown",
   "id": "830bbebb",
   "metadata": {},
   "source": [
    "计算三角形周长"
   ]
  },
  {
   "cell_type": "code",
   "execution_count": 9,
   "id": "a85f2134",
   "metadata": {},
   "outputs": [
    {
     "name": "stdout",
     "output_type": "stream",
     "text": [
      "可以构成三角形\n",
      "该三角形的周长是 3.0\n"
     ]
    }
   ],
   "source": [
    "# 输入三角形三个边\n",
    "[a, b, c] = input(\"输入三条边：\").split(',')\n",
    "# 如何合法\n",
    "if (float(a) + float(b) > float(c)) and (float(a) + float(c) > float(b)) and (float(b) + float(c) > float(a)):\n",
    "    print(\"可以构成三角形\")\n",
    "    # 计算周长\n",
    "    perimeter = float(a) + float(b) + float(c)\n",
    "    print(\"该三角形的周长是\", perimeter)\n",
    "else:\n",
    "    print(\"非法输入\")"
   ]
  },
  {
   "cell_type": "markdown",
   "id": "3aeaab42",
   "metadata": {},
   "source": [
    "4.几何问题：点在圆内吗？ \n",
    "编写一个程序，提示用户输入一个点 (x,y)，然后检测这个点是否在圆心为 (0,0) 半径为10的圆内。例如点 (4,5) 在圆内，而 (9,9) 在圆外，如图a所示。\n",
    " \n",
    "[提示]\n",
    "如果一个点到 (0,0) 之间的距离小于或等于10，那它就在圆内。计算距离的公式是  。测试你的程序考虑所有的情况。\n",
    "[运行示例1]\n",
    "请输入一个点的两个坐标：4, 5 [按下回车]\n",
    "点（4.0, 5.0）在圆内\n",
    "[运行示例2]\n",
    "请输入一个点的两个坐标：9, 9 [按下回车]\n",
    "点（9.0, 9.0）不在圆内"
   ]
  },
  {
   "cell_type": "code",
   "execution_count": 13,
   "id": "6ac1cb58",
   "metadata": {},
   "outputs": [
    {
     "name": "stdout",
     "output_type": "stream",
     "text": [
      "点(9.0, 9.0)不在圆内\n"
     ]
    }
   ],
   "source": [
    "import math\n",
    "[x, y] = input(\"请输入一个点的两个坐标：\").split(',')\n",
    "distance = math.sqrt(float(x) ** 2 + float(y) ** 2)\n",
    "if distance <= 10:\n",
    "    print(f\"点({float(x)}, {float(y)})在圆内\")\n",
    "else:\n",
    "    print(f\"点({float(x)}, {float(y)})不在圆内\")"
   ]
  }
 ],
 "metadata": {
  "kernelspec": {
   "display_name": "Python 3",
   "language": "python",
   "name": "python3"
  },
  "language_info": {
   "codemirror_mode": {
    "name": "ipython",
    "version": 3
   },
   "file_extension": ".py",
   "mimetype": "text/x-python",
   "name": "python",
   "nbconvert_exporter": "python",
   "pygments_lexer": "ipython3",
   "version": "3.12.9"
  }
 },
 "nbformat": 4,
 "nbformat_minor": 5
}
